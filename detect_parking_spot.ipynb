{
  "nbformat": 4,
  "nbformat_minor": 0,
  "metadata": {
    "colab": {
      "name": "detect parking spot.ipynb",
      "provenance": [],
      "collapsed_sections": []
    },
    "kernelspec": {
      "name": "python3",
      "display_name": "Python 3"
    },
    "language_info": {
      "name": "python"
    }
  },
  "cells": [
    {
      "cell_type": "code",
      "metadata": {
        "id": "y2_7MQAg51C3"
      },
      "source": [
        "!git clone https://github.com/matterport/Mask_RCNN.git"
      ],
      "execution_count": null,
      "outputs": []
    },
    {
      "cell_type": "code",
      "metadata": {
        "id": "cq0LqqGT6trg"
      },
      "source": [
        "import yaml\n",
        "import numpy as np\n",
        "import cv2\n",
        "import mrcnn.config\n",
        "import mrcnn.utils\n",
        "from mrcnn.model import MaskRCNN\n",
        "import matplotlib as pt"
      ],
      "execution_count": null,
      "outputs": []
    },
    {
      "cell_type": "code",
      "metadata": {
        "id": "tRU7JfT57pnD"
      },
      "source": [
        "root = '/parking/'\n",
        "model_path = os.path.join(root, \"logs\")\n",
        "coco_path =  os.path.join(root, \"mask_rcnn_coco.h5\")\n",
        "video_path = \"/parking/FTUI_parking_spot.mp4\""
      ],
      "execution_count": null,
      "outputs": []
    },
    {
      "cell_type": "code",
      "metadata": {
        "id": "fsjBqVey7Mor"
      },
      "source": [
        "class MaskRCNNConfig(mrcnn.config.Config):\n",
        "    NAME = \"coco_pretrained_model_config\"\n",
        "    IMAGES_PER_GPU = 1\n",
        "    GPU_COUNT = 1\n",
        "    NUM_CLASSES = 1 + 80  \n",
        "    DETECTION_MIN_CONFIDENCE = 0.5"
      ],
      "execution_count": null,
      "outputs": []
    },
    {
      "cell_type": "code",
      "metadata": {
        "id": "oVFohGzq7lKi"
      },
      "source": [
        ""
      ],
      "execution_count": null,
      "outputs": []
    },
    {
      "cell_type": "code",
      "metadata": {
        "id": "b-YRDOU28Snu"
      },
      "source": [
        "model = MaskRCNN(mode=\"inference\", model_dir=model_path, config=MaskRCNNConfig())\n",
        "model.load_weights(coco_path, by_name=True)\n",
        "video_cv = cv2.VideoCapture(video_path)"
      ],
      "execution_count": null,
      "outputs": []
    },
    {
      "cell_type": "code",
      "metadata": {
        "id": "mRRYALNT9Ouw"
      },
      "source": [
        "parking_spot_yaml = \"spots_v5.yml\"\n",
        "parking_spots=[]\n",
        "\n",
        "with open(parking_spot_yaml, 'r') as stream:\n",
        "    temp_yml_park_spot = yaml.load(stream)\n",
        "\n",
        "if temp_yml_park_spot != None:\n",
        "    for spot in temp_yml_park_spot:\n",
        "      coords = np.array(park['points'])\n",
        "      parking_spots.append(coords)"
      ],
      "execution_count": null,
      "outputs": []
    },
    {
      "cell_type": "code",
      "metadata": {
        "id": "PBBJ0km-JSVS"
      },
      "source": [
        "def cars_coords(coords, ids):\n",
        "    bounding_box = []\n",
        "    for i, x in enumerate(coords):\n",
        "        if ids[i] == 3:  #id 3 represent car\n",
        "            bounding_box.append(x)\n",
        "\n",
        "    return np.array(bounding_box)"
      ],
      "execution_count": null,
      "outputs": []
    },
    {
      "cell_type": "code",
      "metadata": {
        "id": "NnFijgHAAO-M"
      },
      "source": [
        "#run video frame by frame\n",
        "counter = 0\n",
        "while video_cv.isOpened():\n",
        "  counter += 1\n",
        "  _, frame = video_capture.read()\n",
        "  \n",
        "  \n",
        "  #if counter%10 == 0:\n",
        "   #     print(\"FRANE\" + str(counter))\n",
        "   #     pt.pyplot.imshow(frame2)\n",
        "    #    pt.pyplot.show()\n",
        "\n",
        "\n",
        "\n",
        "  #convert to RGB\n",
        "  frame_rgb = frame[:,:,::-1]\n",
        "  hasil = model.detect([frame_rgb])\n",
        "  \n",
        "  detected_car_boundingbox = cars_coords(hasil[0]['rois'], hasil[0]['class_ids'])\n",
        "\n",
        "\n",
        "  if counter%8 == 0 :\n",
        "    overlaps = mrcnn.utils.compute_overlaps(parking_spots, detected_car_boundingbox)\n",
        "    spot_count=0\n",
        "    spot_check = [] #store empty or filled spot data\n",
        "    for spot, overlap in zip(parking_spots, overlaps):\n",
        "      print(\"its spot\", spot_count)\n",
        "      \n",
        "      temp_ratio = np.max(overlap_areas)\n",
        "      if temp_ratio < 0.2 :           #if the overlap ratio below threshold then its consider empty\n",
        "        y1, x1, y2, x2 = spot\n",
        "        cv2.rectangle(frame, (x1, y1), (x2, y2), (0, 255, 0), 3)    #set color to green\n",
        "        spot_check.append(1)\n",
        "      else:\n",
        "        cv2.rectangle(frame, (x1, y1), (x2, y2), (0, 0, 255), 1)     #if not set to red\n",
        "        spot_check.append(0)\n",
        "      spot_count +=1\n",
        "    \n",
        "\n",
        "video_capture.release()\n"
      ],
      "execution_count": null,
      "outputs": []
    },
    {
      "cell_type": "code",
      "metadata": {
        "id": "UAa0dIt2APEt"
      },
      "source": [
        ""
      ],
      "execution_count": null,
      "outputs": []
    }
  ]
}
